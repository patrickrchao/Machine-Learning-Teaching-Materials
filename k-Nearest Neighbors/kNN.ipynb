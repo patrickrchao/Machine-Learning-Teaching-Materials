{
 "cells": [
  {
   "cell_type": "markdown",
   "metadata": {},
   "source": [
    "# Introduction to Machine Learning: Classification with k-Nearest Neighbors\n",
    "## Patrick Chao 1/21/18\n",
    "### (Adapted from Data 8 Fall 2017 Project 3)"
   ]
  },
  {
   "cell_type": "markdown",
   "metadata": {},
   "source": [
    "# Introduction\n",
    "The tutorial is centered around the third project from Data 8 Fall 2017. This project involves classifying a movie's genre as either action or romance using k-Nearest Neighbors.\n",
    "\n",
    "# Classification vs Regression\n",
    "In general, there are two major types of machine learning problems, classification and regression.\n",
    "\n",
    "*Classification* is a problem where we would like to *classify* some sample input into a class or category. For example, we could classify the genre of a movie or classify a handwritten digit as $0-9$. The input may be a list of **features**, or *qualities* of a sample (for digits this would the individual pixels of the image), and the output is a class or label. Note that the bins are discrete and often categorical, and there are a finite number of classes. \n",
    "\n",
    "For modeling classification problems, this may involve generating a probability for each class, and selecting the class with the highest probability. In this notebook, we will investigate a simpler model, using a method called *k-nearest neighbors*.\n",
    "\n",
    "*Regression* does not depend on distinct classes for labels. The input is still a set of features, but the output is instead a continuous value. This may be predicting the population in $5$ years or the temperature tomorrow. In this situation, the \"right answer\" is more vague. If we predict the temperature to be $70$ degrees tomorrow but it is actually $71$, are we right? What if we predicted $70.5$ degrees? This adds a layer of complexity between regression and classification. \n",
    "\n",
    "For modeling regression problems this may be done by creating some function approximation in terms of the input. For example, linear regression is the simplest model, and outputs a continuous value. There are more complex models such as *neural networks* that act as universal function approximators."
   ]
  },
  {
   "cell_type": "markdown",
   "metadata": {},
   "source": [
    "# k-Nearest Neighbors\n",
    "The **k-Nearest Neighbors** (kNN) algorithm is one of the simplest models. The core idea is that a similar set of features should have the same label. For example if we receive an image $A$ as input where we would like to classify the digit, we could look at what other images look like $A$ in our training set. If we were doing $5$-nearest neighbors, we would find the $5$ images closest to $A$ in our data set, and return the most common digit among the $5$. In general, you may choose any value for $k$, $5$ may not be the best choice. Note, this has a $O(1)$ training time! This is the fastest algorithm for training, as there is no training!\n",
    "\n",
    "However, some questions immediately arise. How do you determine how close two images are? Why choose $5$, not $10$ or $100$? There are other consequences as well; you need to look through your entire dataset each time to determine the $k$ closest images, which could take a long time if your training set is huge. The prediction time for kNN is $O(n)$, which is much slower than something like linear regression, where the prediction is $O(d)$ where $d$ is the number of dimensions of the input data.\n",
    "\n",
    "We will address these questions and the shortcomings of kNN.\n",
    "\n",
    "A few conceptual questions for understanding:\n",
    "1. In binary classification (two classes), why is choosing an odd value for $k$ better than an even value?\n",
    "2. Given two separate ordered pairs of two values, $(a,b)$ and $(x,y)$, what possibilities are there for calculating the \"distance\" between them? What are the differences between approaches?\n",
    "3. Assume we are doing image classification. List any possible issues with image classification.\n",
    "4. What does 1-NN mean? If we have $n$ training data, what is $n$-NN? What are some of the *tradeoffs* for varying $k$ between $1$ and $n$?"
   ]
  },
  {
   "cell_type": "code",
   "execution_count": 1,
   "metadata": {
    "collapsed": true
   },
   "outputs": [],
   "source": [
    "# Run this cell to set up the notebook\n",
    "import numpy as np\n",
    "import math\n",
    "\n",
    "# These lines set up the plotting functionality and formatting.\n",
    "import matplotlib\n",
    "%matplotlib inline\n",
    "import matplotlib.pyplot as plt\n",
    "import warnings\n",
    "warnings.simplefilter(action=\"ignore\", category=FutureWarning)\n",
    "import pandas as pd\n",
    "#You may need to pip install pandas/matplotlib\n",
    "\n",
    "#Given a movie title, this returns the frequency of given words\n",
    "def wordFreq(movieTitle,words):\n",
    "    #Change movieTitle to lower case\n",
    "    movieTitle=movieTitle.lower()\n",
    "    \n",
    "    #Change words to lower case\n",
    "    words = [word.lower() for word in words]\n",
    "    #Check if movie title is found\n",
    "    try:\n",
    "        movie = movies[movies[\"Title\"]==movieTitle]\n",
    "    except:\n",
    "        print(\"Movie title not found!\")\n",
    "        return \"\"\n",
    "    \n",
    "    #Check if given words are not found\n",
    "    try:\n",
    "        wordFrequencies = movie[words].as_matrix()[0]\n",
    "    except:\n",
    "        print(\"Words not found\")\n",
    "        return \"\"\n",
    "    \n",
    "    return wordFrequencies\n"
   ]
  },
  {
   "cell_type": "code",
   "execution_count": 2,
   "metadata": {},
   "outputs": [
    {
     "data": {
      "text/html": [
       "<div>\n",
       "<style scoped>\n",
       "    .dataframe tbody tr th:only-of-type {\n",
       "        vertical-align: middle;\n",
       "    }\n",
       "\n",
       "    .dataframe tbody tr th {\n",
       "        vertical-align: top;\n",
       "    }\n",
       "\n",
       "    .dataframe thead th {\n",
       "        text-align: right;\n",
       "    }\n",
       "</style>\n",
       "<table border=\"1\" class=\"dataframe\">\n",
       "  <thead>\n",
       "    <tr style=\"text-align: right;\">\n",
       "      <th></th>\n",
       "      <th>Title</th>\n",
       "      <th>Genre</th>\n",
       "      <th>Year</th>\n",
       "      <th>Rating</th>\n",
       "      <th># Votes</th>\n",
       "      <th># Words</th>\n",
       "      <th>i</th>\n",
       "      <th>the</th>\n",
       "      <th>to</th>\n",
       "      <th>a</th>\n",
       "      <th>...</th>\n",
       "      <th>foster</th>\n",
       "      <th>pub</th>\n",
       "      <th>vegetarian</th>\n",
       "      <th>garrison</th>\n",
       "      <th>grammoo</th>\n",
       "      <th>chimney</th>\n",
       "      <th>bikini</th>\n",
       "      <th>richter</th>\n",
       "      <th>psychopath</th>\n",
       "      <th>fling</th>\n",
       "    </tr>\n",
       "  </thead>\n",
       "  <tbody>\n",
       "    <tr>\n",
       "      <th>0</th>\n",
       "      <td>the terminator</td>\n",
       "      <td>action</td>\n",
       "      <td>1984</td>\n",
       "      <td>8.1</td>\n",
       "      <td>183538</td>\n",
       "      <td>1849</td>\n",
       "      <td>0.040022</td>\n",
       "      <td>0.043807</td>\n",
       "      <td>0.025419</td>\n",
       "      <td>0.024878</td>\n",
       "      <td>...</td>\n",
       "      <td>0.0</td>\n",
       "      <td>0.0</td>\n",
       "      <td>0.0</td>\n",
       "      <td>0.0</td>\n",
       "      <td>0.0</td>\n",
       "      <td>0.0</td>\n",
       "      <td>0.0</td>\n",
       "      <td>0.0</td>\n",
       "      <td>0.000000</td>\n",
       "      <td>0.0</td>\n",
       "    </tr>\n",
       "    <tr>\n",
       "      <th>1</th>\n",
       "      <td>batman</td>\n",
       "      <td>action</td>\n",
       "      <td>1989</td>\n",
       "      <td>7.6</td>\n",
       "      <td>112731</td>\n",
       "      <td>2836</td>\n",
       "      <td>0.051481</td>\n",
       "      <td>0.033850</td>\n",
       "      <td>0.023977</td>\n",
       "      <td>0.028209</td>\n",
       "      <td>...</td>\n",
       "      <td>0.0</td>\n",
       "      <td>0.0</td>\n",
       "      <td>0.0</td>\n",
       "      <td>0.0</td>\n",
       "      <td>0.0</td>\n",
       "      <td>0.0</td>\n",
       "      <td>0.0</td>\n",
       "      <td>0.0</td>\n",
       "      <td>0.000000</td>\n",
       "      <td>0.0</td>\n",
       "    </tr>\n",
       "    <tr>\n",
       "      <th>2</th>\n",
       "      <td>tomorrow never dies</td>\n",
       "      <td>action</td>\n",
       "      <td>1997</td>\n",
       "      <td>6.4</td>\n",
       "      <td>47198</td>\n",
       "      <td>4215</td>\n",
       "      <td>0.028707</td>\n",
       "      <td>0.054330</td>\n",
       "      <td>0.030368</td>\n",
       "      <td>0.021827</td>\n",
       "      <td>...</td>\n",
       "      <td>0.0</td>\n",
       "      <td>0.0</td>\n",
       "      <td>0.0</td>\n",
       "      <td>0.0</td>\n",
       "      <td>0.0</td>\n",
       "      <td>0.0</td>\n",
       "      <td>0.0</td>\n",
       "      <td>0.0</td>\n",
       "      <td>0.000237</td>\n",
       "      <td>0.0</td>\n",
       "    </tr>\n",
       "    <tr>\n",
       "      <th>3</th>\n",
       "      <td>batman forever</td>\n",
       "      <td>action</td>\n",
       "      <td>1995</td>\n",
       "      <td>5.4</td>\n",
       "      <td>77223</td>\n",
       "      <td>3032</td>\n",
       "      <td>0.036609</td>\n",
       "      <td>0.042216</td>\n",
       "      <td>0.020449</td>\n",
       "      <td>0.031003</td>\n",
       "      <td>...</td>\n",
       "      <td>0.0</td>\n",
       "      <td>0.0</td>\n",
       "      <td>0.0</td>\n",
       "      <td>0.0</td>\n",
       "      <td>0.0</td>\n",
       "      <td>0.0</td>\n",
       "      <td>0.0</td>\n",
       "      <td>0.0</td>\n",
       "      <td>0.000000</td>\n",
       "      <td>0.0</td>\n",
       "    </tr>\n",
       "    <tr>\n",
       "      <th>4</th>\n",
       "      <td>supergirl</td>\n",
       "      <td>action</td>\n",
       "      <td>1984</td>\n",
       "      <td>4.1</td>\n",
       "      <td>6576</td>\n",
       "      <td>3842</td>\n",
       "      <td>0.041905</td>\n",
       "      <td>0.032275</td>\n",
       "      <td>0.028891</td>\n",
       "      <td>0.026288</td>\n",
       "      <td>...</td>\n",
       "      <td>0.0</td>\n",
       "      <td>0.0</td>\n",
       "      <td>0.0</td>\n",
       "      <td>0.0</td>\n",
       "      <td>0.0</td>\n",
       "      <td>0.0</td>\n",
       "      <td>0.0</td>\n",
       "      <td>0.0</td>\n",
       "      <td>0.000000</td>\n",
       "      <td>0.0</td>\n",
       "    </tr>\n",
       "  </tbody>\n",
       "</table>\n",
       "<p>5 rows × 5006 columns</p>\n",
       "</div>"
      ],
      "text/plain": [
       "                 Title   Genre  Year  Rating  # Votes  # Words         i  \\\n",
       "0       the terminator  action  1984     8.1   183538     1849  0.040022   \n",
       "1               batman  action  1989     7.6   112731     2836  0.051481   \n",
       "2  tomorrow never dies  action  1997     6.4    47198     4215  0.028707   \n",
       "3       batman forever  action  1995     5.4    77223     3032  0.036609   \n",
       "4            supergirl  action  1984     4.1     6576     3842  0.041905   \n",
       "\n",
       "        the        to         a  ...    foster  pub  vegetarian  garrison  \\\n",
       "0  0.043807  0.025419  0.024878  ...       0.0  0.0         0.0       0.0   \n",
       "1  0.033850  0.023977  0.028209  ...       0.0  0.0         0.0       0.0   \n",
       "2  0.054330  0.030368  0.021827  ...       0.0  0.0         0.0       0.0   \n",
       "3  0.042216  0.020449  0.031003  ...       0.0  0.0         0.0       0.0   \n",
       "4  0.032275  0.028891  0.026288  ...       0.0  0.0         0.0       0.0   \n",
       "\n",
       "   grammoo  chimney  bikini  richter  psychopath  fling  \n",
       "0      0.0      0.0     0.0      0.0    0.000000    0.0  \n",
       "1      0.0      0.0     0.0      0.0    0.000000    0.0  \n",
       "2      0.0      0.0     0.0      0.0    0.000237    0.0  \n",
       "3      0.0      0.0     0.0      0.0    0.000000    0.0  \n",
       "4      0.0      0.0     0.0      0.0    0.000000    0.0  \n",
       "\n",
       "[5 rows x 5006 columns]"
      ]
     },
     "execution_count": 2,
     "metadata": {},
     "output_type": "execute_result"
    }
   ],
   "source": [
    "#Let's see what our dataset looks like!\n",
    "movies = pd.read_csv('movies.csv')\n",
    "movies.head()"
   ]
  },
  {
   "cell_type": "code",
   "execution_count": 3,
   "metadata": {},
   "outputs": [
    {
     "name": "stdout",
     "output_type": "stream",
     "text": [
      "<class 'pandas.core.frame.DataFrame'>\n",
      "[0.00035261 0.05148096]\n"
     ]
    }
   ],
   "source": [
    "#What type is movies?\n",
    "print(type(movies))\n",
    "\n",
    "#What is the frequency of the words \"hey\" and \"i\" in the matrix? Try some yourself! \n",
    "print(wordFreq(\"batman\",[\"Hey\",\"i\"]))\n"
   ]
  },
  {
   "cell_type": "markdown",
   "metadata": {},
   "source": [
    "## kNN Classification and Feature Selection\n",
    "Our goal is to be able to classify songs based on the frequency of various words in the script. However it is not feasible to use all the words as that is very calculation intensive. An alternative is to select certain features, but what features do we select? One method to look at which words are often in romance movies but not action, and vice versa. This is called **feature selection**. \n",
    "\n",
    "First, we will separate the data into training and validation data. Next, we may create some elementary functions such as the distance between movies, getting movies as pandas series, and finding the $k$ movies closest to some given movie."
   ]
  },
  {
   "cell_type": "code",
   "execution_count": 4,
   "metadata": {
    "collapsed": true
   },
   "outputs": [],
   "source": [
    "#Split the data into 80 training and 20 validation\n",
    "trainingPercentage = 80/100\n",
    "numMovies = movies.shape[0]\n",
    "numTraining = (int)(numMovies*trainingPercentage)\n",
    "numValidation = numMovies - numTraining\n",
    "\n",
    "#Training Set\n",
    "trainingSet = movies[0:numTraining]\n",
    "\n",
    "#Validation Set\n",
    "validationSet = movies[numTraining:]\n"
   ]
  },
  {
   "cell_type": "code",
   "execution_count": 5,
   "metadata": {
    "collapsed": true
   },
   "outputs": [],
   "source": [
    "#Separate into action and romance\n",
    "action = trainingSet[trainingSet[\"Genre\"]==\"action\"]\n",
    "romance = trainingSet[trainingSet[\"Genre\"]==\"romance\"]"
   ]
  },
  {
   "cell_type": "code",
   "execution_count": 6,
   "metadata": {
    "collapsed": true
   },
   "outputs": [],
   "source": [
    "#Given two movie titles mov1,mov2, and a list of words\n",
    "#distance returns the euclidean distance between the two movies using the words as features\n",
    "def distance(mov1,mov2,words):\n",
    "    mov1Freq=wordFreq(mov1,words)\n",
    "    mov2Freq=wordFreq(mov2,words)\n",
    "    return np.sqrt(sum((mov1Freq-mov2Freq)**2))\n",
    "\n",
    "#Given a movie title, this returns the row as a pandas series\n",
    "def getMovie(title):\n",
    "    title = title.lower()\n",
    "    return movies[movies[\"Title\"]==title].squeeze()\n",
    "\n",
    "#Given a movie as a panda series, determines the k closest movies using words as features\n",
    "#Returns the dataframe of movies\n",
    "def kShortestDistance(k,movie,movieSet,words):\n",
    "    distances=[]\n",
    "    #Iterate over all movies\n",
    "    for i in range(movieSet.shape[0]):\n",
    "        currMovieTitle = movieSet.iloc[i][\"Title\"]\n",
    "        #Get the distance of two movies from two movies \n",
    "        dist = distance(currMovieTitle,movie[\"Title\"],words)\n",
    "        distances.append((dist,i))\n",
    "    #Sort the array\n",
    "    distances = sorted(distances,key=lambda x:x[0])\n",
    "    #Get the indices of the movies\n",
    "    indices = [x[1] for x in distances]\n",
    "    return movieSet.iloc[indices[1:k+1]]\n",
    "\n",
    "#Faster kShortestDistance using subsetting\n",
    "def kShortestDistanceFast(k,movie,movieSet,words):\n",
    "    #Subset out the words\n",
    "    movieSubset = movieSet[words]\n",
    "    currMovie = movie[words].squeeze()\n",
    "    #Calculate Distances and sort\n",
    "    distances = ((movieSubset-currMovie)**2).sum(axis=1)\n",
    "    distances = distances.sort_values()\n",
    "    #Shift by the minimum index if the movies do not start at 0\n",
    "    indices = distances.index.tolist()\n",
    "    minIndex = min(indices)\n",
    "    shiftedIndices=(np.array(indices)-minIndex).tolist()\n",
    "    return movieSet.iloc[shiftedIndices[1:k+1]]\n",
    "\n",
    "#Given a list of movies, returns the majority genre\n",
    "def getMajority(nearestMovies):\n",
    "    numMovies = nearestMovies.shape[0]\n",
    "    #Count frequency of genres\n",
    "    counts = nearestMovies['Genre'].value_counts()\n",
    "    if len(counts)==1:\n",
    "        return [x[0] for x in counts.items()][0]\n",
    "    if counts[\"action\"]>numMovies/2:\n",
    "        return \"action\"\n",
    "    return \"romance\"\n",
    "\n",
    "#Given a dataset, a set of word features, and the value of k\n",
    "#Returns the percentage correct (0-100)\n",
    "def accuracy(dataset,features,k):\n",
    "    numCorrect = 0 \n",
    "    #Iterate over all movies\n",
    "    for i in range(dataset.shape[0]):\n",
    "        currMovie = dataset.iloc[i].squeeze()\n",
    "        currMovieGenre = currMovie[\"Genre\"]\n",
    "        #Calculate k closest movies\n",
    "        kClosest = kShortestDistanceFast(k,currMovie,dataset,features)\n",
    "        predGenre = getMajority(kClosest)\n",
    "        #Keep track of number of correct predictions\n",
    "        if predGenre == currMovieGenre:\n",
    "            numCorrect +=1\n",
    "    #Return accuracy as percentage\n",
    "    return numCorrect*1.0/dataset.shape[0]*100"
   ]
  },
  {
   "cell_type": "markdown",
   "metadata": {},
   "source": [
    "The code below uses \"power\" and \"love\" as features to find the $5$ closest movies to \"batman returns\". Then we get the majority of the genres of those five movies, and we find that batman returns is predicted to be action based on those $5$ movies. "
   ]
  },
  {
   "cell_type": "code",
   "execution_count": 7,
   "metadata": {},
   "outputs": [
    {
     "data": {
      "text/plain": [
       "'action'"
      ]
     },
     "execution_count": 7,
     "metadata": {},
     "output_type": "execute_result"
    }
   ],
   "source": [
    "#Use \"money\" and \"feel\" as features\n",
    "features = [\"power\",\"love\"]\n",
    "movie = getMovie(\"batman returns\")\n",
    "#Get the five closest movies to the \"batman returns\" using the training set\n",
    "closest=kShortestDistance(5,movie,trainingSet,features)\n",
    "#Given the closest movies, returns the majority \n",
    "#Represents the kNN Prediction\n",
    "getMajority(closest)"
   ]
  },
  {
   "cell_type": "markdown",
   "metadata": {},
   "source": [
    "Use this word plot (courtesy of Data 8) to construct some of your own features!\n",
    "<img src='wordplot.png' width=\"700\" height=\"700\">"
   ]
  },
  {
   "cell_type": "code",
   "execution_count": 8,
   "metadata": {},
   "outputs": [
    {
     "data": {
      "text/plain": [
       "62.17616580310881"
      ]
     },
     "execution_count": 8,
     "metadata": {},
     "output_type": "execute_result"
    }
   ],
   "source": [
    "#Try with some of your own features!\n",
    "features = [\"power\",\"feel\"]\n",
    "k=5\n",
    "accuracy(trainingSet,features,k)"
   ]
  },
  {
   "cell_type": "code",
   "execution_count": 9,
   "metadata": {
    "collapsed": true
   },
   "outputs": [],
   "source": [
    "#Our chosen features\n",
    "features = [\"men\",\"power\",\"marri\",\"nice\",\"home\",\"captain\",\"move\",\"run\",\"world\",\"huh\",\"happi\",\"move\",\"write\",\"hello\"]"
   ]
  },
  {
   "cell_type": "markdown",
   "metadata": {},
   "source": [
    "With our own chosen features, we then use the training set to determine the optimal value for $k$. Afterwards, we use this value of $k$ to find the accuracy on the validation data."
   ]
  },
  {
   "cell_type": "code",
   "execution_count": 10,
   "metadata": {},
   "outputs": [
    {
     "data": {
      "image/png": "[encoded data removed]",
      "text/plain": [
       "<matplotlib.figure.Figure at 0x10a34e240>"
      ]
     },
     "metadata": {},
     "output_type": "display_data"
    }
   ],
   "source": [
    "#Determine the best value for k\n",
    "trainAccuracies = []\n",
    "numKValues = 10\n",
    "for i in range(numKValues):\n",
    "    acc =accuracy(trainingSet,features,2*i+1)\n",
    "    trainAccuracies.append(acc)\n",
    "xAxis = ([2*i+1 for i in range(numKValues)])\n",
    "plt.plot(xAxis,trainAccuracies)\n",
    "plt.show()\n",
    "\n"
   ]
  },
  {
   "cell_type": "markdown",
   "metadata": {},
   "source": [
    "Using the previous information about overfitting and underfitting, explain the shape of the graph! Why is the accuracy low for $k=1$ and as $k$ increases past $15$?"
   ]
  },
  {
   "cell_type": "code",
   "execution_count": 11,
   "metadata": {},
   "outputs": [
    {
     "name": "stdout",
     "output_type": "stream",
     "text": [
      "Best k: 11\n",
      "Test Accuracy: 71.42857142857143\n"
     ]
    }
   ],
   "source": [
    "#Determine best value for k\n",
    "optimalK=xAxis[np.argmax(trainAccuracies)]\n",
    "\n",
    "#Best kNN was found with k=11\n",
    "print(\"Best k:\",optimalK)\n",
    "\n",
    "#Determine validation error with this value for k\n",
    "optimalKNNVal = accuracy(validationSet,features,optimalK)\n",
    "print(\"Test Accuracy:\",optimalKNNVal)\n"
   ]
  },
  {
   "cell_type": "markdown",
   "metadata": {},
   "source": [
    "Why is the accuracy for the validation set lower than the training accuracy (about $75\\%$)?\n",
    "\n",
    "This concludes the kNN python tutorial. k-Nearest Neighbors is an incredibly simple yet powerful model, and serves as a great foundational method for machine learning."
   ]
  }
 ],
 "metadata": {
  "kernelspec": {
   "display_name": "Python 3",
   "language": "python",
   "name": "python3"
  },
  "language_info": {
   "codemirror_mode": {
    "name": "ipython",
    "version": 3
   },
   "file_extension": ".py",
   "mimetype": "text/x-python",
   "name": "python",
   "nbconvert_exporter": "python",
   "pygments_lexer": "ipython3",
   "version": "3.6.4"
  }
 },
 "nbformat": 4,
 "nbformat_minor": 2
}
